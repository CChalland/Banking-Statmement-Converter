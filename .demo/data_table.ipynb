{
 "cells": [
  {
   "cell_type": "markdown",
   "id": "66543614",
   "metadata": {},
   "source": [
    "# Testing Banking Statement Converter\n",
    "\n",
    "## Importing proper directory\n",
    "\n",
    "There is no simple way to import python files in another directory. This is unrelated to the jupyter notebook. Here are 3 solutions to your problem\n",
    "\n",
    "1.) You can add the directory containing the file you want to import to your path and then import the file like this:\n",
    "```\n",
    "import sys  \n",
    "sys.path.insert(0, '/path/to/application/app/folder')\n",
    "\n",
    "import file\n",
    "```\n",
    "\n",
    "2.) You can create a local module by having an empty __init__.py file in the folder you want to import. There are some weird rules regarding the folder hierarchy that you have to take into consideration.\n",
    "\n",
    "3.) You can create a module for the file you wish to import and install it globally."
   ]
  },
  {
   "cell_type": "code",
   "execution_count": null,
   "id": "eaf06852",
   "metadata": {},
   "outputs": [],
   "source": [
    "import sys  \n",
    "sys.path.insert(0, '/Users/CChalland/Projects/APPs/Banking')\n",
    "\n",
    "from card_filter import StatementFilter\n",
    "\n",
    "import os"
   ]
  },
  {
   "cell_type": "code",
   "execution_count": null,
   "id": "4335ab30",
   "metadata": {},
   "outputs": [],
   "source": [
    "path = '../Statements/Chase/Credit'\n",
    "input_files = []\n",
    "\n",
    "statements = StatementFilter()\n",
    "\n",
    "print(\"Starting PDFs Uploads:\")\n",
    "for file in os.listdir(path):\n",
    "    if file.endswith(\".pdf\"):\n",
    "        input_files.append(os.path.join(path, file))\n",
    "\n",
    "statements.data_from_files(input_files)\n",
    "data = statements.results\n",
    "\n",
    "print(data)\n",
    "    "
   ]
  },
  {
   "cell_type": "code",
   "execution_count": null,
   "id": "10d63316",
   "metadata": {},
   "outputs": [],
   "source": []
  }
 ],
 "metadata": {
  "kernelspec": {
   "display_name": "Python 3 (ipykernel)",
   "language": "python",
   "name": "python3"
  },
  "language_info": {
   "codemirror_mode": {
    "name": "ipython",
    "version": 3
   },
   "file_extension": ".py",
   "mimetype": "text/x-python",
   "name": "python",
   "nbconvert_exporter": "python",
   "pygments_lexer": "ipython3",
   "version": "3.10.8"
  }
 },
 "nbformat": 4,
 "nbformat_minor": 5
}
