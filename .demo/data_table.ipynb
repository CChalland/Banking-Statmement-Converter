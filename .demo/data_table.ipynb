{
 "cells": [
  {
   "cell_type": "markdown",
   "id": "66543614",
   "metadata": {},
   "source": [
    "# This is a level 1 heading\n",
    "\n",
    "## This is a level 2 heading\n",
    "\n",
    "This is some plain text that forms a paragraph. Add emphasis via **bold** and __bold__, or *italic* and _italic_. \n",
    "\n",
    "Paragraphs must be separated by an empty line. \n",
    "\n",
    "* Sometimes we want to include lists. \n",
    "* Which can be bulleted using asterisks. \n",
    "\n",
    "1. Lists can also be numbered. \n",
    "2. If we want an ordered list.\n",
    "\n",
    "[It is possible to include hyperlinks](https://www.example.com)\n",
    "\n",
    "Inline code uses single backticks: foo(), and code blocks use triple backticks: \n",
    "```\n",
    "bar()\n",
    "``` \n",
    "Or can be indented by 4 spaces: \n",
    "\n",
    "    foo()\n",
    "\n",
    "And finally, adding images is easy: ![Alt text](https://www.example.com/image.jpg)"
   ]
  },
  {
   "cell_type": "code",
   "execution_count": 2,
   "id": "eaf06852",
   "metadata": {},
   "outputs": [
    {
     "ename": "ModuleNotFoundError",
     "evalue": "No module named 'card_filter'",
     "output_type": "error",
     "traceback": [
      "\u001b[0;31m---------------------------------------------------------------------------\u001b[0m",
      "\u001b[0;31mModuleNotFoundError\u001b[0m                       Traceback (most recent call last)",
      "Input \u001b[0;32mIn [2]\u001b[0m, in \u001b[0;36m<cell line: 4>\u001b[0;34m()\u001b[0m\n\u001b[1;32m      1\u001b[0m \u001b[38;5;28;01mimport\u001b[39;00m \u001b[38;5;21;01mos\u001b[39;00m\n\u001b[1;32m      2\u001b[0m \u001b[38;5;28;01mimport\u001b[39;00m \u001b[38;5;21;01margparse\u001b[39;00m\n\u001b[0;32m----> 4\u001b[0m \u001b[38;5;28;01mfrom\u001b[39;00m \u001b[38;5;21;01mcard_filter\u001b[39;00m \u001b[38;5;28;01mimport\u001b[39;00m StatementFilter\n\u001b[1;32m      6\u001b[0m input_files \u001b[38;5;241m=\u001b[39m []\n\u001b[1;32m      7\u001b[0m all_pdf_data \u001b[38;5;241m=\u001b[39m []\n",
      "\u001b[0;31mModuleNotFoundError\u001b[0m: No module named 'card_filter'"
     ]
    }
   ],
   "source": [
    "import os\n",
    "import argparse\n",
    "\n",
    "from card_filter import StatementFilter\n",
    "\n",
    "input_files = []\n",
    "all_pdf_data = []\n",
    "parser = argparse.ArgumentParser()\n",
    "parser.add_argument(\"--dir\", default=\".\", help=\"The directory to scan pdfs from\")\n",
    "args = parser.parse_args()\n",
    "\n",
    "print(\"Starting PDFs Uploads:\")\n",
    "for file in os.listdir(args.dir):\n",
    "    if file.endswith(\".pdf\"):\n",
    "        input_files.append(os.path.join(args.dir, file))\n",
    "\n",
    "statements = StatementFilter()\n",
    "\n",
    "for file in input_files:\n",
    "    print(\"fname: \", file)\n",
    "    data = statements.data_from_file(file)\n",
    "    all_pdf_data.extend(data)\n",
    "    \n",
    "print(\"\\n\\n\\n\\nALL DATA: \", all_pdf_data)"
   ]
  },
  {
   "cell_type": "code",
   "execution_count": null,
   "id": "4335ab30",
   "metadata": {},
   "outputs": [],
   "source": []
  }
 ],
 "metadata": {
  "kernelspec": {
   "display_name": "Python 3 (ipykernel)",
   "language": "python",
   "name": "python3"
  },
  "language_info": {
   "codemirror_mode": {
    "name": "ipython",
    "version": 3
   },
   "file_extension": ".py",
   "mimetype": "text/x-python",
   "name": "python",
   "nbconvert_exporter": "python",
   "pygments_lexer": "ipython3",
   "version": "3.10.4"
  }
 },
 "nbformat": 4,
 "nbformat_minor": 5
}
